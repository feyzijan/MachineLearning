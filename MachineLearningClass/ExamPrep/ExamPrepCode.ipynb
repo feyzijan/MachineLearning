{
  "nbformat": 4,
  "nbformat_minor": 0,
  "metadata": {
    "colab": {
      "provenance": []
    },
    "kernelspec": {
      "name": "python3",
      "display_name": "Python 3"
    },
    "language_info": {
      "name": "python"
    }
  },
  "cells": [
    {
      "cell_type": "markdown",
      "source": [
        "Plotting"
      ],
      "metadata": {
        "id": "JbfNBdc9Rf3e"
      }
    },
    {
      "cell_type": "code",
      "source": [
        "import matplotlib.pyplot as plt\n",
        "import numpy as np\n",
        "import pandas as pd\n",
        "\n",
        "def gen_sample_grid(npx=200, npy=200, limit=1):\n",
        "  x1line = np.linspace(-limit, limit, npx)\n",
        "  x2line = np.linspace(-limit, limit, npy)\n",
        "  x1grid, x2grid = np.meshgrid(x1line, x2line)\n",
        "  Xgrid = np.array([x1grid, x2grid]).reshape([2,npx*npy]).T\n",
        "  return Xgrid,x1line,x2line"
      ],
      "metadata": {
        "id": "FLnolSzlRvcZ"
      },
      "execution_count": null,
      "outputs": []
    },
    {
      "cell_type": "code",
      "source": [
        "#fig, ax = plt.subplots()\n",
        "#Plotting\n",
        "\n",
        "#ax.scatter()\n",
        "#plt.contourf(x1line, x2line, pgrid) - (200,),(200,)(4000,2)\n",
        "\n",
        "\n",
        "# Setting limits\n",
        "#plt.ylim(1,10)\n",
        "#ax.set_xlim([25, 50])\n",
        "\n",
        "#plt.colorbar()"
      ],
      "metadata": {
        "id": "lIYyezzHRph9"
      },
      "execution_count": null,
      "outputs": []
    },
    {
      "cell_type": "markdown",
      "source": [
        "# Linear Regression"
      ],
      "metadata": {
        "id": "PN0h9OJFS6OU"
      }
    },
    {
      "cell_type": "code",
      "source": [
        "x = np.linspace(0,10,100)\n",
        "y = np.linspace(100,200,100) + 5"
      ],
      "metadata": {
        "id": "Q4gb26LbTGfx"
      },
      "execution_count": null,
      "outputs": []
    },
    {
      "cell_type": "markdown",
      "source": [
        "### 1D"
      ],
      "metadata": {
        "id": "lVxphpDGS89-"
      }
    },
    {
      "cell_type": "code",
      "source": [
        "A = np.array( [ [np.sum(x), np.sum(x**2)],\n",
        "                [len(x), np.sum(x)]])\n",
        "\n",
        "B = np.array([[np.dot(x,y)], \n",
        "              [np.sum(y)]])\n",
        "\n",
        "betas = np.linalg.solve(A,B)\n",
        "betas"
      ],
      "metadata": {
        "colab": {
          "base_uri": "https://localhost:8080/"
        },
        "id": "4DfbEWsRTEMv",
        "outputId": "1b0dd8f2-80d8-4794-a453-a8c3d89d50e9"
      },
      "execution_count": null,
      "outputs": [
        {
          "output_type": "execute_result",
          "data": {
            "text/plain": [
              "array([[105.],\n",
              "       [ 10.]])"
            ]
          },
          "metadata": {},
          "execution_count": 39
        }
      ]
    },
    {
      "cell_type": "markdown",
      "source": [
        "### 1D - 2 degree polynomial"
      ],
      "metadata": {
        "id": "SI98WBkpTrva"
      }
    },
    {
      "cell_type": "code",
      "source": [
        "A = np.array([[np.sum(x ** 2), np.sum(x ** 3), np.sum(x ** 4)], \n",
        "              [np.sum(x), np.sum(x ** 2), np.sum(x ** 3)],\n",
        "              [len(x), np.sum(x), np.sum(x ** 2)]])\n",
        "\n",
        "B = np.array([np.dot(x ** 2, y), np.dot(x, y), np.sum(y)]).T\n",
        "\n",
        "betas = np.linalg.solve(A,B)\n",
        "betas"
      ],
      "metadata": {
        "colab": {
          "base_uri": "https://localhost:8080/"
        },
        "id": "RLBzAe4bTtmy",
        "outputId": "4bad9982-cf70-43ad-c6f9-9409dc38a771"
      },
      "execution_count": null,
      "outputs": [
        {
          "output_type": "execute_result",
          "data": {
            "text/plain": [
              "array([1.05000000e+02, 1.00000000e+01, 1.16810743e-14])"
            ]
          },
          "metadata": {},
          "execution_count": 40
        }
      ]
    },
    {
      "cell_type": "code",
      "source": [
        "#Alternative\n",
        "\n",
        "betas = np.polynomial.polynomial.polyfit(x,y,deg=2)\n",
        "betas"
      ],
      "metadata": {
        "colab": {
          "base_uri": "https://localhost:8080/"
        },
        "id": "9OfZg6ZPT78O",
        "outputId": "47ffefca-63d1-48d8-d380-f7d1bb635f1c"
      },
      "execution_count": null,
      "outputs": [
        {
          "output_type": "execute_result",
          "data": {
            "text/plain": [
              "array([ 1.05000000e+02,  1.00000000e+01, -3.78457759e-16])"
            ]
          },
          "metadata": {},
          "execution_count": 41
        }
      ]
    },
    {
      "cell_type": "markdown",
      "source": [
        "### 2D"
      ],
      "metadata": {
        "id": "GWFeb-NETBtt"
      }
    },
    {
      "cell_type": "code",
      "source": [
        "df = pd.read_csv(\"http://pogo.software/me4ml/rjteh/d3.csv\")\n",
        "x = df['x']\n",
        "y = df['y']\n",
        "xc = np.cos(np.pi*x)\n",
        "\n",
        "A = np.array([[np.sum(xc), np.dot(x, xc), np.sum(xc**2) ], \n",
        "              [np.sum(x), np.sum(x ** 2), np.sum(x*xc) ],\n",
        "              [len(x), np.sum(x), np.sum(xc)]])\n",
        "\n",
        "B = np.array([np.dot(xc, y), np.dot(x, y), np.sum(y)]).T\n",
        "\n",
        "\n",
        "betas = np.linalg.solve(A,B)\n",
        "betas"
      ],
      "metadata": {
        "id": "pbkKVRBYTD7i",
        "colab": {
          "base_uri": "https://localhost:8080/"
        },
        "outputId": "0bcc52ae-6e03-4190-ace4-59c70c80a8af"
      },
      "execution_count": null,
      "outputs": [
        {
          "output_type": "execute_result",
          "data": {
            "text/plain": [
              "array([3.85148825, 3.0761603 , 2.68219645])"
            ]
          },
          "metadata": {},
          "execution_count": 42
        }
      ]
    },
    {
      "cell_type": "code",
      "source": [
        "y_pred = betas[0] + x*betas[1] + xc*betas[2]\n",
        "plt.scatter(x,y_pred)\n",
        "plt.scatter(x,y,color='r')"
      ],
      "metadata": {
        "colab": {
          "base_uri": "https://localhost:8080/",
          "height": 282
        },
        "id": "pmwgIJv6GbRX",
        "outputId": "3e0abbee-128c-4b35-99a2-78e3fde19ae1"
      },
      "execution_count": null,
      "outputs": [
        {
          "output_type": "execute_result",
          "data": {
            "text/plain": [
              "<matplotlib.collections.PathCollection at 0x7f93b3e3b1f0>"
            ]
          },
          "metadata": {},
          "execution_count": 43
        },
        {
          "output_type": "display_data",
          "data": {
            "text/plain": [
              "<Figure size 432x288 with 1 Axes>"
            ],
            "image/png": "[encoded data removed]"
          },
          "metadata": {
            "needs_background": "light"
          }
        }
      ]
    },
    {
      "cell_type": "markdown",
      "source": [
        "### Gradient Descent"
      ],
      "metadata": {
        "id": "NsYt7Ng3i9pd"
      }
    },
    {
      "cell_type": "code",
      "source": [
        "y_pred = lambda b0,b1,b2: b2*x + b1 * np.cos(np.pi*x) + b0\n",
        "\n",
        "def calc_error(b0,b1,b2):\n",
        "  error = ((y-y_pred(b0,b1,b2)) ** 2).sum()/(len(x))\n",
        "  return error\n",
        "\n",
        "\n",
        "def calc_gradient(parameter):\n",
        " \n",
        "  global b0,b1,b2,x\n",
        "  error = calc_error(b0,b1,b2)\n",
        "\n",
        "  if parameter == \"b0\":\n",
        "    step = b0/100\n",
        "    new_error = calc_error(b0+step,b1,b2)\n",
        "  elif parameter == \"b1\":\n",
        "    step = b1/100\n",
        "    new_error = calc_error(b0,b1+step,b2)\n",
        "  elif parameter == \"b2\":\n",
        "    step = b2/100\n",
        "    new_error = calc_error(b0,b1,b2+step)\n",
        "\n",
        "  return (new_error - error)/step\n",
        "\n",
        "# Set initial Values\n",
        "b0 = 1\n",
        "b1 = 1\n",
        "b2 = 1\n",
        "\n",
        "error_initial = calc_error(b0,b1,b2)\n",
        "print(\"Initial error is \", error_initial)\n",
        "\n",
        "n_iteration = 100\n",
        "n_learning = 0.5\n",
        "\n",
        "for i in range(n_iteration):\n",
        "  b0 = b0 - n_learning * calc_gradient(\"b0\")\n",
        "  b1 = b1 - n_learning * calc_gradient(\"b1\")\n",
        "  b2 = b2 - n_learning * calc_gradient(\"b2\")\n",
        "  print(\"Error at iteration \", i, \" is \" ,calc_error(b0,b1,b2))\n",
        "\n"
      ],
      "metadata": {
        "colab": {
          "base_uri": "https://localhost:8080/"
        },
        "id": "Lp0VIem6i_4C",
        "outputId": "7eb1899d-7665-4834-c4c0-5751f36c41c2"
      },
      "execution_count": null,
      "outputs": [
        {
          "output_type": "stream",
          "name": "stdout",
          "text": [
            "Initial error is  15.116166730529072\n",
            "Error at iteration  0  is  1.5285918858461427\n",
            "Error at iteration  1  is  0.44298270089525255\n",
            "Error at iteration  2  is  0.21167129773829982\n",
            "Error at iteration  3  is  0.17552699335922486\n",
            "Error at iteration  4  is  0.16294820297312568\n",
            "Error at iteration  5  is  0.16206145518001766\n",
            "Error at iteration  6  is  0.16088857185080702\n",
            "Error at iteration  7  is  0.16092772078349288\n",
            "Error at iteration  8  is  0.16075723899298616\n",
            "Error at iteration  9  is  0.1607661686764298\n",
            "Error at iteration  10  is  0.16073519628812885\n",
            "Error at iteration  11  is  0.16073513853777044\n",
            "Error at iteration  12  is  0.16072890044261498\n",
            "Error at iteration  13  is  0.1607283740260691\n",
            "Error at iteration  14  is  0.16072704046661662\n",
            "Error at iteration  15  is  0.16072681268869624\n",
            "Error at iteration  16  is  0.16072651510079364\n",
            "Error at iteration  17  is  0.1607264407662401\n",
            "Error at iteration  18  is  0.16072637208279572\n",
            "Error at iteration  19  is  0.16072635035926644\n",
            "Error at iteration  20  is  0.16072633408192671\n",
            "Error at iteration  21  is  0.16072632807616224\n",
            "Error at iteration  22  is  0.16072632413983912\n",
            "Error at iteration  23  is  0.1607263225306574\n",
            "Error at iteration  24  is  0.16072632156441144\n",
            "Error at iteration  25  is  0.1607263211412976\n",
            "Error at iteration  26  is  0.16072632090154954\n",
            "Error at iteration  27  is  0.16072632079160099\n",
            "Error at iteration  28  is  0.16072632073166127\n",
            "Error at iteration  29  is  0.16072632070330567\n",
            "Error at iteration  30  is  0.16072632068824091\n",
            "Error at iteration  31  is  0.160726320680964\n",
            "Error at iteration  32  is  0.16072632067716397\n",
            "Error at iteration  33  is  0.16072632067530257\n",
            "Error at iteration  34  is  0.16072632067434175\n",
            "Error at iteration  35  is  0.1607263206738665\n",
            "Error at iteration  36  is  0.16072632067362322\n",
            "Error at iteration  37  is  0.16072632067350198\n",
            "Error at iteration  38  is  0.1607263206734403\n",
            "Error at iteration  39  is  0.16072632067340942\n",
            "Error at iteration  40  is  0.16072632067339385\n",
            "Error at iteration  41  is  0.16072632067338596\n",
            "Error at iteration  42  is  0.16072632067338205\n",
            "Error at iteration  43  is  0.16072632067338002\n",
            "Error at iteration  44  is  0.16072632067337897\n",
            "Error at iteration  45  is  0.16072632067337841\n",
            "Error at iteration  46  is  0.16072632067337822\n",
            "Error at iteration  47  is  0.16072632067337814\n",
            "Error at iteration  48  is  0.160726320673378\n",
            "Error at iteration  49  is  0.16072632067337808\n",
            "Error at iteration  50  is  0.16072632067337797\n",
            "Error at iteration  51  is  0.160726320673378\n",
            "Error at iteration  52  is  0.16072632067337791\n",
            "Error at iteration  53  is  0.160726320673378\n",
            "Error at iteration  54  is  0.16072632067337797\n",
            "Error at iteration  55  is  0.16072632067337791\n",
            "Error at iteration  56  is  0.16072632067337791\n",
            "Error at iteration  57  is  0.16072632067337791\n",
            "Error at iteration  58  is  0.16072632067337791\n",
            "Error at iteration  59  is  0.16072632067337791\n",
            "Error at iteration  60  is  0.16072632067337791\n",
            "Error at iteration  61  is  0.16072632067337791\n",
            "Error at iteration  62  is  0.16072632067337791\n",
            "Error at iteration  63  is  0.16072632067337791\n",
            "Error at iteration  64  is  0.16072632067337791\n",
            "Error at iteration  65  is  0.16072632067337791\n",
            "Error at iteration  66  is  0.16072632067337791\n",
            "Error at iteration  67  is  0.16072632067337791\n",
            "Error at iteration  68  is  0.16072632067337791\n",
            "Error at iteration  69  is  0.16072632067337791\n",
            "Error at iteration  70  is  0.16072632067337791\n",
            "Error at iteration  71  is  0.16072632067337791\n",
            "Error at iteration  72  is  0.16072632067337791\n",
            "Error at iteration  73  is  0.16072632067337791\n",
            "Error at iteration  74  is  0.16072632067337791\n",
            "Error at iteration  75  is  0.16072632067337791\n",
            "Error at iteration  76  is  0.16072632067337791\n",
            "Error at iteration  77  is  0.16072632067337791\n",
            "Error at iteration  78  is  0.16072632067337791\n",
            "Error at iteration  79  is  0.16072632067337791\n",
            "Error at iteration  80  is  0.16072632067337791\n",
            "Error at iteration  81  is  0.16072632067337791\n",
            "Error at iteration  82  is  0.16072632067337791\n",
            "Error at iteration  83  is  0.16072632067337791\n",
            "Error at iteration  84  is  0.16072632067337791\n",
            "Error at iteration  85  is  0.16072632067337791\n",
            "Error at iteration  86  is  0.16072632067337791\n",
            "Error at iteration  87  is  0.16072632067337791\n",
            "Error at iteration  88  is  0.16072632067337791\n",
            "Error at iteration  89  is  0.16072632067337791\n",
            "Error at iteration  90  is  0.16072632067337791\n",
            "Error at iteration  91  is  0.16072632067337791\n",
            "Error at iteration  92  is  0.16072632067337791\n",
            "Error at iteration  93  is  0.16072632067337791\n",
            "Error at iteration  94  is  0.16072632067337791\n",
            "Error at iteration  95  is  0.16072632067337791\n",
            "Error at iteration  96  is  0.16072632067337791\n",
            "Error at iteration  97  is  0.16072632067337791\n",
            "Error at iteration  98  is  0.16072632067337791\n",
            "Error at iteration  99  is  0.16072632067337791\n"
          ]
        }
      ]
    },
    {
      "cell_type": "markdown",
      "source": [
        "## Plotting Linear Disc Functions"
      ],
      "metadata": {
        "id": "bFNxETf_VX3Q"
      }
    },
    {
      "cell_type": "code",
      "source": [
        "Xgrid,x1line,x2line = gen_sample_grid(20, 20, limit=1)\n",
        "\n",
        "w1 = np.array([[-1],[-3]])\n",
        "w0 = 1\n",
        "\n",
        "g = np.matmul(w1.T, Xgrid.T) + w0\n",
        "g = g.reshape(20,20)\n",
        "\n",
        "#Plot\n",
        "\n",
        "plt.contourf(x1line,x2line,g)\n",
        "# Plot g= 0 line (eq by hand) : x2 = (1-x1)/3\n",
        "g_0 = (1-x1line)/3\n",
        "\n",
        "plt.plot(x1line,g_0, linewidth=2,color='black',label='g=0')\n",
        "plt.legend()"
      ],
      "metadata": {
        "colab": {
          "base_uri": "https://localhost:8080/",
          "height": 286
        },
        "id": "NC42CwNvVY5U",
        "outputId": "a140c331-3caf-4edb-acf8-6799b7e83bbc"
      },
      "execution_count": null,
      "outputs": [
        {
          "output_type": "execute_result",
          "data": {
            "text/plain": [
              "<matplotlib.legend.Legend at 0x7f93b43faf70>"
            ]
          },
          "metadata": {},
          "execution_count": 45
        },
        {
          "output_type": "display_data",
          "data": {
            "text/plain": [
              "<Figure size 432x288 with 1 Axes>"
            ],
            "image/png": "[encoded data removed]"
          },
          "metadata": {
            "needs_background": "light"
          }
        }
      ]
    },
    {
      "cell_type": "markdown",
      "source": [
        "For comparing multiple linear disc functions"
      ],
      "metadata": {
        "id": "ADxsctbLW9PD"
      }
    },
    {
      "cell_type": "code",
      "source": [
        "#g1  = np.matmul(Xgrid,weighing1) ..\n",
        "#gconc = np.concatenate([g1,g2,g3],axis=1)\n",
        "\n",
        "#omega = np.argmax(gconc,axis=1)\n",
        "#omega = np.reshape(omega,[length,length])\n",
        "#plt.contourf(x1line,x2line,omega)"
      ],
      "metadata": {
        "id": "ycDNBZTyWFTj"
      },
      "execution_count": null,
      "outputs": []
    },
    {
      "cell_type": "markdown",
      "source": [
        "## Neural Network Activation Functions"
      ],
      "metadata": {
        "id": "nTBbeux8WhZi"
      }
    },
    {
      "cell_type": "code",
      "source": [
        "def simgoid(x):\n",
        "  return 1/ (1+np.exp(-x))\n",
        "\n",
        "def relu(x):\n",
        "  xo = np.copy(x)\n",
        "  xo[x < 0] = 0\n",
        "  return xo\n",
        "\n",
        "def softmax(x):\n",
        "  #return np.exp(x) / np.sum( [np.exp(x[i] for all i)])\n",
        "  return\n",
        "\n",
        "def sign(x):\n",
        "  return x > 0\n",
        "\n",
        "def softplus(x):\n",
        "  return np.log(1+np.exp(x))\n"
      ],
      "metadata": {
        "id": "6lOI3PImdex2"
      },
      "execution_count": null,
      "outputs": []
    },
    {
      "cell_type": "markdown",
      "source": [
        "KMeans code"
      ],
      "metadata": {
        "id": "0hSsIUwCd-A3"
      }
    },
    {
      "cell_type": "code",
      "source": [
        "df = pd.read_csv(\"http://pogo.software/me4ml/rjteh/d1.csv\")\n",
        "x1 = df['x1']\n",
        "x2 = df['x2']\n",
        "\n",
        "y1_mean = np.array((-1,-1))\n",
        "y2_mean = np.array((2,1))\n",
        "\n",
        "\n",
        "def KMeans(x1,x2,y1_mean,y2_mean):\n",
        "  y1_dist = np.sqrt((x1 - y1_mean[0])**2 + (x2 - y1_mean[1])**2)\n",
        "  y2_dist = np.sqrt((x1 - y2_mean[0])**2 + (x2 - y2_mean[1])**2)\n",
        "  classes = np.array(y1_dist < y2_dist) # True means class 1, False means class 2\n",
        "\n",
        "  # Below I create the class array, with 1 and 2 representing each class\n",
        "  y = np.zeros(len(classes)) \n",
        "  for i in range(len(classes)):\n",
        "    if classes[i] == True: # True corresponds to class 1\n",
        "      y[i] = 1\n",
        "    else:\n",
        "      y[i] = 2\n",
        "\n",
        "  y1_mean = np.array((x1[y==1].mean(),x2[y==1].mean()))\n",
        "  y2_mean = np.array((x1[y==2].mean(),x2[y==2].mean()))\n",
        "\n",
        "  return (y1_dist,y2_dist, y, y1_mean,y2_mean)\n",
        "\n",
        "\n",
        "  \n",
        "\n",
        "\n",
        "  "
      ],
      "metadata": {
        "id": "R6UgnKufd_Ku"
      },
      "execution_count": null,
      "outputs": []
    },
    {
      "cell_type": "markdown",
      "source": [
        "KNN code"
      ],
      "metadata": {
        "id": "pomAwfv3hpDa"
      }
    },
    {
      "cell_type": "code",
      "source": [],
      "metadata": {
        "id": "ZZejAVgXhr0f"
      },
      "execution_count": null,
      "outputs": []
    },
    {
      "cell_type": "markdown",
      "source": [
        "## Support Vectors"
      ],
      "metadata": {
        "id": "c3ntj5-Mptkz"
      }
    },
    {
      "cell_type": "code",
      "source": [
        "a = np.array([0, 0]) # Class 1 support\n",
        "b = np.array([0.4, 1]) # Class 1 support\n",
        "c = np.array([1, 0]) # Class 2 support"
      ],
      "metadata": {
        "id": "rE2pftAaqjxv"
      },
      "execution_count": null,
      "outputs": []
    },
    {
      "cell_type": "markdown",
      "source": [
        "#### Using two support vectors on the same side"
      ],
      "metadata": {
        "id": "YqPQSqvQqiOi"
      }
    },
    {
      "cell_type": "code",
      "source": [
        "#Finding SVM Line\n",
        "d = b-a # support lime parallel to b-a\n",
        "dn = d/np.linalg.norm(d) # normalise\n",
        "p0 = 0.5*(a+c) # Point on surface\n",
        "\n",
        "m = d[1]/d[0] # gradient\n",
        "\n",
        "c = p0[1] - p0[0]*m # find offset term\n",
        "\n",
        "\n",
        "print(\"y = \"+str(m)+\"x + \"+str(c))\n"
      ],
      "metadata": {
        "colab": {
          "base_uri": "https://localhost:8080/"
        },
        "id": "iitvTmjhpygF",
        "outputId": "6ed9a050-4e86-4db5-d838-8161bfef7279"
      },
      "execution_count": null,
      "outputs": [
        {
          "output_type": "stream",
          "name": "stdout",
          "text": [
            "y = 2.5x + -1.25\n"
          ]
        }
      ]
    },
    {
      "cell_type": "markdown",
      "source": [
        "#### ***Using two support vectors on the opposite side"
      ],
      "metadata": {
        "id": "SwmRqZdmqnVT"
      }
    },
    {
      "cell_type": "code",
      "source": [
        "w = c-a\n",
        "p0 = 0.5*(a+c)\n",
        "np.dot(w,p0)\n",
        "w"
      ],
      "metadata": {
        "colab": {
          "base_uri": "https://localhost:8080/"
        },
        "id": "cboUY7D1qd6y",
        "outputId": "03ccaef9-2f69-4f4c-9aa7-bc99d8743fe3"
      },
      "execution_count": null,
      "outputs": [
        {
          "output_type": "execute_result",
          "data": {
            "text/plain": [
              "array([-1.25, -1.25])"
            ]
          },
          "metadata": {},
          "execution_count": 51
        }
      ]
    },
    {
      "cell_type": "markdown",
      "source": [
        "## Principal Components"
      ],
      "metadata": {
        "id": "dQEJKn2xqpC5"
      }
    },
    {
      "cell_type": "markdown",
      "source": [
        "Find missing pc given others"
      ],
      "metadata": {
        "id": "YswT_VPUs2aS"
      }
    },
    {
      "cell_type": "code",
      "source": [
        "p1 = np.array((2/3,1/3,2/3))\n",
        "p2 = np.array((1/3,2/3,-2/3))\n",
        "\n",
        "p3 = np.cross(p1,p2)"
      ],
      "metadata": {
        "id": "-Gk8MRbis9np"
      },
      "execution_count": null,
      "outputs": []
    },
    {
      "cell_type": "markdown",
      "source": [
        "Express a point as combination of these"
      ],
      "metadata": {
        "id": "LwznSio0tC-3"
      }
    },
    {
      "cell_type": "code",
      "source": [
        "x = np.array((3,2,1)) # our point\n",
        "\n",
        "#just use dot products here - works since orthogonal unit vectors\n",
        "w1 = np.dot(p1,x)\n",
        "w2 = np.dot(p2,x)\n",
        "w3 = np.dot(p3,x)\n"
      ],
      "metadata": {
        "id": "pTu9I0hYtHCs"
      },
      "execution_count": null,
      "outputs": []
    },
    {
      "cell_type": "markdown",
      "source": [
        "Get PCA from just points"
      ],
      "metadata": {
        "id": "zGZhXVtIw5El"
      }
    },
    {
      "cell_type": "code",
      "source": [
        "# row1 is x1, row2 is x2\n",
        "A = np.array([ [1,2,3], \n",
        "              [-2,-4,-6]])\n",
        "\n",
        "# Subtract mean\n",
        "A[0] = A[0]- np.mean(A[0])\n",
        "A[1] = A[1] -np.mean(A[1])\n",
        "\n",
        "# Get covariance\n",
        "cov = np.cov(A)\n",
        "\n",
        "# Get eigenvalues - ***Columns are vectors\n",
        "values,vectors = np.linalg.eig(cov)\n",
        "vectors"
      ],
      "metadata": {
        "colab": {
          "base_uri": "https://localhost:8080/"
        },
        "id": "jzIP8Hy8w6I9",
        "outputId": "7bfad97c-3bce-4765-f9ce-33131ab727f5"
      },
      "execution_count": null,
      "outputs": [
        {
          "output_type": "execute_result",
          "data": {
            "text/plain": [
              "array([[-0.89442719,  0.4472136 ],\n",
              "       [-0.4472136 , -0.89442719]])"
            ]
          },
          "metadata": {},
          "execution_count": 54
        }
      ]
    },
    {
      "cell_type": "code",
      "source": [
        "vectors[:,0] # First element corresponding to values[0]"
      ],
      "metadata": {
        "colab": {
          "base_uri": "https://localhost:8080/"
        },
        "id": "16mKlyI3zRRs",
        "outputId": "9babd41e-9287-41a7-c544-1d33ba4ded31"
      },
      "execution_count": null,
      "outputs": [
        {
          "output_type": "execute_result",
          "data": {
            "text/plain": [
              "array([-0.89442719, -0.4472136 ])"
            ]
          },
          "metadata": {},
          "execution_count": 55
        }
      ]
    },
    {
      "cell_type": "markdown",
      "source": [
        "![Principal20Analysis20vector.png](data:image/png;base64,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)"
      ],
      "metadata": {
        "id": "e6DKiQjBxK8_"
      }
    },
    {
      "cell_type": "markdown",
      "source": [
        "## Parzen Windows"
      ],
      "metadata": {
        "id": "cVCsChjVtKQH"
      }
    },
    {
      "cell_type": "markdown",
      "source": [
        "1D"
      ],
      "metadata": {
        "id": "tpTguc6NwLjn"
      }
    },
    {
      "cell_type": "code",
      "source": [
        "x = np.linspace(-2.5, 2.5,200) # graph range\n",
        "p = np.zeros(x.shape)\n",
        "\n",
        "x1=-0.6\n",
        "x1_low = 0.1\n",
        "x2 = 1.1\n",
        "h = 2\n",
        "m = 2\n",
        "\n",
        "p[np.logical_and(x > -0.6 - h/2, x< -0.6 + h/2)] +=1\n",
        "p[np.logical_and(x > 1.1 - h/2, x< 1.1 + h/2)] +=1\n",
        "\n",
        "p /= (h*m)\n",
        "\n",
        "fig, ax = plt.subplots()\n",
        "ax.plot(x,p)"
      ],
      "metadata": {
        "colab": {
          "base_uri": "https://localhost:8080/",
          "height": 282
        },
        "id": "9LBMsi3EtSMJ",
        "outputId": "6fcd921e-ad68-4cc0-a4d6-30298c6a0bd4"
      },
      "execution_count": null,
      "outputs": [
        {
          "output_type": "execute_result",
          "data": {
            "text/plain": [
              "[<matplotlib.lines.Line2D at 0x7f93b3d98460>]"
            ]
          },
          "metadata": {},
          "execution_count": 56
        },
        {
          "output_type": "display_data",
          "data": {
            "text/plain": [
              "<Figure size 432x288 with 1 Axes>"
            ],
            "image/png": "[encoded data removed]"
          },
          "metadata": {
            "needs_background": "light"
          }
        }
      ]
    },
    {
      "cell_type": "markdown",
      "source": [
        "2D"
      ],
      "metadata": {
        "id": "w-05_rDuvQSQ"
      }
    },
    {
      "cell_type": "code",
      "source": [
        "df = pd.read_csv(\"http://pogo.software/me4ml/womue/s3.csv\")\n",
        "x1 = np.array(df['x1'])\n",
        "x2 = np.array(df['x2'])\n",
        "\n",
        "n_total = x1.shape[0]"
      ],
      "metadata": {
        "id": "906a6o97wmcm"
      },
      "execution_count": null,
      "outputs": []
    },
    {
      "cell_type": "code",
      "source": [
        "h = 0.5\n",
        "point = [1,0.5]\n",
        "\n",
        "a = np.logical_and( np.logical_and(0.75 < x1, x1 < 1.25), \n",
        "                   np.logical_and(0.25 < x2, x2 < 0.75) )\n",
        "\n",
        "n_sum = a.sum()\n",
        "\n",
        "pdf = n_sum /(h**2) / n_total\n",
        "pdf"
      ],
      "metadata": {
        "colab": {
          "base_uri": "https://localhost:8080/"
        },
        "id": "QvGoPaAewvMp",
        "outputId": "4ebc67e6-c272-41f6-b15a-76e68137ea08"
      },
      "execution_count": null,
      "outputs": [
        {
          "output_type": "execute_result",
          "data": {
            "text/plain": [
              "0.56"
            ]
          },
          "metadata": {},
          "execution_count": 58
        }
      ]
    },
    {
      "cell_type": "code",
      "source": [],
      "metadata": {
        "id": "LeVVodrYJw-D"
      },
      "execution_count": null,
      "outputs": []
    }
  ]
}