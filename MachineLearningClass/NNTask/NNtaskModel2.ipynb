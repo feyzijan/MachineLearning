{
  "cells": [
    {
      "cell_type": "markdown",
      "metadata": {},
      "source": [
        "Imports"
      ]
    },
    {
      "cell_type": "code",
      "execution_count": 1,
      "metadata": {
        "id": "OcHvUUQdHfRN"
      },
      "outputs": [],
      "source": [
        "import numpy as np\n",
        "import matplotlib.pyplot as plt\n",
        "import matplotlib\n",
        "import pandas as pd\n",
        "import tensorflow as tf\n",
        "from tensorflow import keras\n",
        "from sklearn.preprocessing import StandardScaler\n",
        "from tensorflow.keras.models import Sequential\n",
        "from tensorflow.keras.layers import Dense\n",
        "from tensorflow.keras.utils import *\n",
        "from sklearn.model_selection import train_test_split \n",
        "from sklearn.utils import shuffle\n",
        "from tensorflow.keras.callbacks import EarlyStopping"
      ]
    },
    {
      "cell_type": "markdown",
      "metadata": {
        "id": "DkvGO0giJ1Fv"
      },
      "source": [
        "#### Load Data"
      ]
    },
    {
      "cell_type": "code",
      "execution_count": 2,
      "metadata": {
        "id": "gKBmMEFDHoIm"
      },
      "outputs": [
        {
          "data": {
            "text/html": [
              "<div>\n",
              "<style scoped>\n",
              "    .dataframe tbody tr th:only-of-type {\n",
              "        vertical-align: middle;\n",
              "    }\n",
              "\n",
              "    .dataframe tbody tr th {\n",
              "        vertical-align: top;\n",
              "    }\n",
              "\n",
              "    .dataframe thead th {\n",
              "        text-align: right;\n",
              "    }\n",
              "</style>\n",
              "<table border=\"1\" class=\"dataframe\">\n",
              "  <thead>\n",
              "    <tr style=\"text-align: right;\">\n",
              "      <th></th>\n",
              "      <th>Arm length (m)</th>\n",
              "      <th>Ball weight (kg)</th>\n",
              "      <th>Ball radius (mm)</th>\n",
              "      <th>Air temperature (deg C)</th>\n",
              "      <th>Spring constant (N per m)</th>\n",
              "      <th>Device weight (kg)</th>\n",
              "      <th>Target hit</th>\n",
              "    </tr>\n",
              "  </thead>\n",
              "  <tbody>\n",
              "    <tr>\n",
              "      <th>count</th>\n",
              "      <td>4000.000000</td>\n",
              "      <td>4000.000000</td>\n",
              "      <td>4000.000000</td>\n",
              "      <td>4000.000000</td>\n",
              "      <td>4000.000000</td>\n",
              "      <td>4000.000000</td>\n",
              "      <td>4000.000000</td>\n",
              "    </tr>\n",
              "    <tr>\n",
              "      <th>mean</th>\n",
              "      <td>0.302567</td>\n",
              "      <td>0.311477</td>\n",
              "      <td>51.959118</td>\n",
              "      <td>18.964250</td>\n",
              "      <td>619.341255</td>\n",
              "      <td>4.202961</td>\n",
              "      <td>0.500000</td>\n",
              "    </tr>\n",
              "    <tr>\n",
              "      <th>std</th>\n",
              "      <td>0.099262</td>\n",
              "      <td>0.098218</td>\n",
              "      <td>29.392652</td>\n",
              "      <td>4.874157</td>\n",
              "      <td>369.852469</td>\n",
              "      <td>2.160364</td>\n",
              "      <td>0.500063</td>\n",
              "    </tr>\n",
              "    <tr>\n",
              "      <th>min</th>\n",
              "      <td>0.050395</td>\n",
              "      <td>0.010604</td>\n",
              "      <td>10.272821</td>\n",
              "      <td>7.000000</td>\n",
              "      <td>67.411562</td>\n",
              "      <td>0.501552</td>\n",
              "      <td>0.000000</td>\n",
              "    </tr>\n",
              "    <tr>\n",
              "      <th>25%</th>\n",
              "      <td>0.235220</td>\n",
              "      <td>0.246335</td>\n",
              "      <td>32.664662</td>\n",
              "      <td>16.000000</td>\n",
              "      <td>361.441873</td>\n",
              "      <td>2.344290</td>\n",
              "      <td>0.000000</td>\n",
              "    </tr>\n",
              "    <tr>\n",
              "      <th>50%</th>\n",
              "      <td>0.302948</td>\n",
              "      <td>0.311282</td>\n",
              "      <td>44.108938</td>\n",
              "      <td>19.000000</td>\n",
              "      <td>528.829750</td>\n",
              "      <td>4.201250</td>\n",
              "      <td>0.500000</td>\n",
              "    </tr>\n",
              "    <tr>\n",
              "      <th>75%</th>\n",
              "      <td>0.367210</td>\n",
              "      <td>0.378485</td>\n",
              "      <td>63.282152</td>\n",
              "      <td>22.000000</td>\n",
              "      <td>769.896335</td>\n",
              "      <td>6.076208</td>\n",
              "      <td>1.000000</td>\n",
              "    </tr>\n",
              "    <tr>\n",
              "      <th>max</th>\n",
              "      <td>0.683179</td>\n",
              "      <td>0.669831</td>\n",
              "      <td>273.411328</td>\n",
              "      <td>30.000000</td>\n",
              "      <td>2953.444254</td>\n",
              "      <td>7.998456</td>\n",
              "      <td>1.000000</td>\n",
              "    </tr>\n",
              "  </tbody>\n",
              "</table>\n",
              "</div>"
            ],
            "text/plain": [
              "       Arm length (m)  Ball weight (kg)  Ball radius (mm)  \\\n",
              "count     4000.000000       4000.000000       4000.000000   \n",
              "mean         0.302567          0.311477         51.959118   \n",
              "std          0.099262          0.098218         29.392652   \n",
              "min          0.050395          0.010604         10.272821   \n",
              "25%          0.235220          0.246335         32.664662   \n",
              "50%          0.302948          0.311282         44.108938   \n",
              "75%          0.367210          0.378485         63.282152   \n",
              "max          0.683179          0.669831        273.411328   \n",
              "\n",
              "       Air temperature (deg C)  Spring constant (N per m)  Device weight (kg)  \\\n",
              "count              4000.000000                4000.000000         4000.000000   \n",
              "mean                 18.964250                 619.341255            4.202961   \n",
              "std                   4.874157                 369.852469            2.160364   \n",
              "min                   7.000000                  67.411562            0.501552   \n",
              "25%                  16.000000                 361.441873            2.344290   \n",
              "50%                  19.000000                 528.829750            4.201250   \n",
              "75%                  22.000000                 769.896335            6.076208   \n",
              "max                  30.000000                2953.444254            7.998456   \n",
              "\n",
              "        Target hit  \n",
              "count  4000.000000  \n",
              "mean      0.500000  \n",
              "std       0.500063  \n",
              "min       0.000000  \n",
              "25%       0.000000  \n",
              "50%       0.500000  \n",
              "75%       1.000000  \n",
              "max       1.000000  "
            ]
          },
          "execution_count": 2,
          "metadata": {},
          "output_type": "execute_result"
        }
      ],
      "source": [
        "df = pd.read_csv(\"dataset2.csv\")\n",
        "# Optional modifications to test\n",
        "#df['Air temperature (deg C)'] = df['Air temperature (deg C)'] + 273.15\n",
        "#df['Ball radius (mm)'] = 0\n",
        "\n",
        "X = np.array(df.drop(labels='Target hit',axis=1))\n",
        "y = np.array(df['Target hit'])\n",
        "\n",
        "df.describe()"
      ]
    },
    {
      "cell_type": "markdown",
      "metadata": {},
      "source": [
        "Standard Scale data"
      ]
    },
    {
      "cell_type": "code",
      "execution_count": 3,
      "metadata": {},
      "outputs": [
        {
          "name": "stdout",
          "output_type": "stream",
          "text": [
            "StandardScaler()\n"
          ]
        }
      ],
      "source": [
        "scaler = StandardScaler()\n",
        "print(scaler.fit(X))\n",
        "\n",
        "\n",
        "# save params\n",
        "data1_mean = np.array(scaler.mean_)\n",
        "data1_std = np.sqrt(np.array(scaler.var_))\n",
        "scaling_data1 = np.array([data1_mean, data1_std])\n",
        "np.savetxt('fce19-2.txt',scaling_data1)\n",
        "\n",
        "# scale\n",
        "X = scaler.fit_transform(X)"
      ]
    },
    {
      "cell_type": "markdown",
      "metadata": {
        "id": "jTUHYW67LEGG"
      },
      "source": [
        "Split into train-test and reshape y"
      ]
    },
    {
      "cell_type": "code",
      "execution_count": 4,
      "metadata": {},
      "outputs": [],
      "source": [
        "y = to_categorical(y)\n",
        "X_train, X_test, y_train, y_test = train_test_split(X,y,test_size=0.1)"
      ]
    },
    {
      "cell_type": "markdown",
      "metadata": {},
      "source": [
        "Plotting functions"
      ]
    },
    {
      "cell_type": "code",
      "execution_count": 5,
      "metadata": {},
      "outputs": [],
      "source": [
        "def model_evolution_accuracy(history):\n",
        "    plt.ylim(0,1)\n",
        "    plt.plot(history.history['accuracy'])\n",
        "    plt.plot(history.history['val_accuracy'])\n",
        "    plt.title('model accuracy')\n",
        "    plt.ylabel('accuracy')\n",
        "    plt.xlabel('epoch')\n",
        "    plt.legend(['train', 'test'], loc='upper left')\n",
        "    plt.show()\n",
        "\n",
        "def model_evolution_loss(history):  \n",
        "    # summarize history for loss\n",
        "    plt.ylim(0,1)\n",
        "    plt.plot(history.history['loss'])\n",
        "    plt.plot(history.history['val_loss'])\n",
        "    plt.title('model loss')\n",
        "    plt.ylabel('loss')\n",
        "    plt.xlabel('epoch')\n",
        "    plt.legend(['train', 'test'], loc='upper left')\n",
        "    plt.show()\n",
        "\n",
        "# Evaluate accuracy on training set\n",
        "def test_set_evalution(model, X_train, X_test, y_train, y_test):\n",
        "    print(\"Train set evaluation:\", model.evaluate(X_train,y_train))\n",
        "    print(\"Test set evaluation:\", model.evaluate(X_test,y_test))"
      ]
    },
    {
      "cell_type": "markdown",
      "metadata": {
        "id": "3XL2nG6XLtwP"
      },
      "source": [
        " Design NN"
      ]
    },
    {
      "cell_type": "code",
      "execution_count": 6,
      "metadata": {
        "id": "7In-3KJsLyTG"
      },
      "outputs": [
        {
          "name": "stdout",
          "output_type": "stream",
          "text": [
            "Epoch 1/100\n",
            "113/113 [==============================] - 6s 18ms/step - loss: 0.6925 - accuracy: 0.5461 - val_loss: 0.6865 - val_accuracy: 0.5900\n",
            "Epoch 2/100\n",
            "113/113 [==============================] - 2s 14ms/step - loss: 0.6842 - accuracy: 0.5736 - val_loss: 0.6798 - val_accuracy: 0.5950\n",
            "Epoch 3/100\n",
            "113/113 [==============================] - 1s 13ms/step - loss: 0.6754 - accuracy: 0.5864 - val_loss: 0.6724 - val_accuracy: 0.6200\n",
            "Epoch 4/100\n",
            "113/113 [==============================] - 1s 13ms/step - loss: 0.6676 - accuracy: 0.6053 - val_loss: 0.6618 - val_accuracy: 0.6100\n",
            "Epoch 5/100\n",
            "113/113 [==============================] - 1s 13ms/step - loss: 0.6598 - accuracy: 0.6108 - val_loss: 0.6703 - val_accuracy: 0.6150\n",
            "Epoch 6/100\n",
            "113/113 [==============================] - 1s 13ms/step - loss: 0.6527 - accuracy: 0.6164 - val_loss: 0.6544 - val_accuracy: 0.6125\n",
            "Epoch 7/100\n",
            "113/113 [==============================] - 1s 13ms/step - loss: 0.6473 - accuracy: 0.6294 - val_loss: 0.6482 - val_accuracy: 0.6225\n",
            "Epoch 8/100\n",
            "113/113 [==============================] - 1s 13ms/step - loss: 0.6439 - accuracy: 0.6311 - val_loss: 0.6502 - val_accuracy: 0.6300\n",
            "Epoch 9/100\n",
            "113/113 [==============================] - 2s 13ms/step - loss: 0.6380 - accuracy: 0.6411 - val_loss: 0.6398 - val_accuracy: 0.6450\n",
            "Epoch 10/100\n",
            "113/113 [==============================] - 2s 14ms/step - loss: 0.6327 - accuracy: 0.6456 - val_loss: 0.6416 - val_accuracy: 0.6475\n",
            "Epoch 11/100\n",
            "113/113 [==============================] - 2s 14ms/step - loss: 0.6301 - accuracy: 0.6433 - val_loss: 0.6324 - val_accuracy: 0.6775\n",
            "Epoch 12/100\n",
            "113/113 [==============================] - 2s 14ms/step - loss: 0.6249 - accuracy: 0.6514 - val_loss: 0.6329 - val_accuracy: 0.6600\n",
            "Epoch 13/100\n",
            "113/113 [==============================] - 2s 14ms/step - loss: 0.6192 - accuracy: 0.6594 - val_loss: 0.6392 - val_accuracy: 0.6600\n",
            "Epoch 14/100\n",
            "113/113 [==============================] - 2s 14ms/step - loss: 0.6158 - accuracy: 0.6589 - val_loss: 0.6324 - val_accuracy: 0.6825\n",
            "Epoch 15/100\n",
            "113/113 [==============================] - 2s 13ms/step - loss: 0.6132 - accuracy: 0.6586 - val_loss: 0.6309 - val_accuracy: 0.6575\n",
            "Epoch 16/100\n",
            "113/113 [==============================] - 2s 14ms/step - loss: 0.6092 - accuracy: 0.6697 - val_loss: 0.6212 - val_accuracy: 0.6775\n",
            "Epoch 17/100\n",
            "113/113 [==============================] - 2s 13ms/step - loss: 0.6044 - accuracy: 0.6756 - val_loss: 0.6217 - val_accuracy: 0.6750\n",
            "Epoch 18/100\n",
            "113/113 [==============================] - 2s 13ms/step - loss: 0.6013 - accuracy: 0.6817 - val_loss: 0.6214 - val_accuracy: 0.6825\n",
            "Epoch 19/100\n",
            "113/113 [==============================] - 2s 14ms/step - loss: 0.5973 - accuracy: 0.6772 - val_loss: 0.6218 - val_accuracy: 0.6675\n",
            "Epoch 20/100\n",
            "113/113 [==============================] - 2s 14ms/step - loss: 0.5954 - accuracy: 0.6844 - val_loss: 0.6176 - val_accuracy: 0.6750\n",
            "Epoch 21/100\n",
            "113/113 [==============================] - 1s 13ms/step - loss: 0.5906 - accuracy: 0.6878 - val_loss: 0.6188 - val_accuracy: 0.6750\n",
            "Epoch 22/100\n",
            "113/113 [==============================] - 1s 13ms/step - loss: 0.5878 - accuracy: 0.6906 - val_loss: 0.6249 - val_accuracy: 0.6725\n",
            "Epoch 23/100\n",
            "113/113 [==============================] - 2s 14ms/step - loss: 0.5864 - accuracy: 0.6900 - val_loss: 0.6190 - val_accuracy: 0.6775\n",
            "Epoch 24/100\n",
            "113/113 [==============================] - 2s 15ms/step - loss: 0.5828 - accuracy: 0.6936 - val_loss: 0.6181 - val_accuracy: 0.6825\n",
            "Epoch 25/100\n",
            "113/113 [==============================] - 2s 14ms/step - loss: 0.5795 - accuracy: 0.7036 - val_loss: 0.6098 - val_accuracy: 0.6775\n",
            "Epoch 26/100\n",
            "113/113 [==============================] - 1s 13ms/step - loss: 0.5743 - accuracy: 0.7019 - val_loss: 0.6117 - val_accuracy: 0.6925\n",
            "Epoch 27/100\n",
            "113/113 [==============================] - 1s 13ms/step - loss: 0.5719 - accuracy: 0.7078 - val_loss: 0.6072 - val_accuracy: 0.6825\n",
            "Epoch 28/100\n",
            "113/113 [==============================] - 2s 13ms/step - loss: 0.5704 - accuracy: 0.7031 - val_loss: 0.6023 - val_accuracy: 0.6975\n",
            "Epoch 29/100\n",
            "113/113 [==============================] - 1s 13ms/step - loss: 0.5659 - accuracy: 0.7078 - val_loss: 0.6135 - val_accuracy: 0.7000\n",
            "Epoch 30/100\n",
            "113/113 [==============================] - 2s 16ms/step - loss: 0.5648 - accuracy: 0.7114 - val_loss: 0.6043 - val_accuracy: 0.6950\n",
            "Epoch 31/100\n",
            "113/113 [==============================] - 2s 15ms/step - loss: 0.5610 - accuracy: 0.7072 - val_loss: 0.6098 - val_accuracy: 0.7025\n",
            "Epoch 32/100\n",
            "113/113 [==============================] - 2s 15ms/step - loss: 0.5551 - accuracy: 0.7192 - val_loss: 0.6021 - val_accuracy: 0.6925\n",
            "Epoch 33/100\n",
            "113/113 [==============================] - 2s 14ms/step - loss: 0.5549 - accuracy: 0.7125 - val_loss: 0.6124 - val_accuracy: 0.6875\n",
            "Epoch 34/100\n",
            "113/113 [==============================] - 2s 15ms/step - loss: 0.5532 - accuracy: 0.7186 - val_loss: 0.5997 - val_accuracy: 0.6925\n",
            "Epoch 35/100\n",
            "113/113 [==============================] - 2s 16ms/step - loss: 0.5499 - accuracy: 0.7244 - val_loss: 0.5931 - val_accuracy: 0.7175\n",
            "Epoch 36/100\n",
            "113/113 [==============================] - 2s 15ms/step - loss: 0.5454 - accuracy: 0.7314 - val_loss: 0.6002 - val_accuracy: 0.6900\n",
            "Epoch 37/100\n",
            "113/113 [==============================] - 2s 15ms/step - loss: 0.5443 - accuracy: 0.7228 - val_loss: 0.5963 - val_accuracy: 0.6950\n",
            "Epoch 38/100\n",
            "113/113 [==============================] - 2s 15ms/step - loss: 0.5445 - accuracy: 0.7253 - val_loss: 0.5933 - val_accuracy: 0.6950\n",
            "Epoch 39/100\n",
            "113/113 [==============================] - 2s 14ms/step - loss: 0.5366 - accuracy: 0.7322 - val_loss: 0.5997 - val_accuracy: 0.6775\n",
            "Epoch 40/100\n",
            "113/113 [==============================] - 2s 14ms/step - loss: 0.5359 - accuracy: 0.7314 - val_loss: 0.5978 - val_accuracy: 0.6800\n",
            "Epoch 41/100\n",
            "113/113 [==============================] - 1s 13ms/step - loss: 0.5324 - accuracy: 0.7442 - val_loss: 0.5981 - val_accuracy: 0.6950\n",
            "Epoch 42/100\n",
            "113/113 [==============================] - 1s 13ms/step - loss: 0.5311 - accuracy: 0.7369 - val_loss: 0.6023 - val_accuracy: 0.6975\n",
            "Epoch 43/100\n",
            "113/113 [==============================] - 1s 13ms/step - loss: 0.5282 - accuracy: 0.7425 - val_loss: 0.5957 - val_accuracy: 0.6825\n",
            "Epoch 44/100\n",
            "113/113 [==============================] - 2s 13ms/step - loss: 0.5257 - accuracy: 0.7442 - val_loss: 0.6010 - val_accuracy: 0.6825\n",
            "Epoch 45/100\n",
            "113/113 [==============================] - 2s 14ms/step - loss: 0.5244 - accuracy: 0.7458 - val_loss: 0.5938 - val_accuracy: 0.6900\n",
            "Epoch 46/100\n",
            "113/113 [==============================] - 2s 14ms/step - loss: 0.5217 - accuracy: 0.7494 - val_loss: 0.5818 - val_accuracy: 0.6975\n",
            "Epoch 47/100\n",
            "113/113 [==============================] - 1s 13ms/step - loss: 0.5179 - accuracy: 0.7456 - val_loss: 0.5917 - val_accuracy: 0.6975\n",
            "Epoch 48/100\n",
            "113/113 [==============================] - 2s 14ms/step - loss: 0.5182 - accuracy: 0.7492 - val_loss: 0.5911 - val_accuracy: 0.7000\n",
            "Epoch 49/100\n",
            "113/113 [==============================] - 1s 13ms/step - loss: 0.5131 - accuracy: 0.7481 - val_loss: 0.6064 - val_accuracy: 0.6925\n",
            "Epoch 50/100\n",
            "113/113 [==============================] - 2s 14ms/step - loss: 0.5129 - accuracy: 0.7528 - val_loss: 0.5922 - val_accuracy: 0.6925\n",
            "Epoch 51/100\n",
            "113/113 [==============================] - 1s 13ms/step - loss: 0.5113 - accuracy: 0.7497 - val_loss: 0.5888 - val_accuracy: 0.7025\n",
            "Epoch 52/100\n",
            "113/113 [==============================] - 2s 14ms/step - loss: 0.5099 - accuracy: 0.7514 - val_loss: 0.5943 - val_accuracy: 0.7075\n",
            "Epoch 53/100\n",
            "113/113 [==============================] - 1s 13ms/step - loss: 0.5072 - accuracy: 0.7550 - val_loss: 0.5926 - val_accuracy: 0.6950\n",
            "Epoch 54/100\n",
            "113/113 [==============================] - 1s 13ms/step - loss: 0.5063 - accuracy: 0.7522 - val_loss: 0.5985 - val_accuracy: 0.6900\n",
            "Epoch 55/100\n",
            "113/113 [==============================] - 1s 13ms/step - loss: 0.5025 - accuracy: 0.7544 - val_loss: 0.6059 - val_accuracy: 0.6950\n",
            "Epoch 56/100\n",
            "113/113 [==============================] - 1s 12ms/step - loss: 0.5026 - accuracy: 0.7594 - val_loss: 0.5875 - val_accuracy: 0.7000\n",
            "Epoch 57/100\n",
            "113/113 [==============================] - 1s 12ms/step - loss: 0.5017 - accuracy: 0.7528 - val_loss: 0.5985 - val_accuracy: 0.7100\n",
            "Epoch 58/100\n",
            "113/113 [==============================] - 1s 12ms/step - loss: 0.4963 - accuracy: 0.7656 - val_loss: 0.5904 - val_accuracy: 0.6925\n",
            "Epoch 59/100\n",
            "113/113 [==============================] - 1s 13ms/step - loss: 0.4964 - accuracy: 0.7583 - val_loss: 0.5986 - val_accuracy: 0.6925\n",
            "Epoch 60/100\n",
            "113/113 [==============================] - 1s 13ms/step - loss: 0.4945 - accuracy: 0.7636 - val_loss: 0.5894 - val_accuracy: 0.7200\n",
            "Epoch 61/100\n",
            "113/113 [==============================] - 1s 13ms/step - loss: 0.4916 - accuracy: 0.7606 - val_loss: 0.5923 - val_accuracy: 0.7125\n",
            "Epoch 62/100\n",
            "113/113 [==============================] - 2s 14ms/step - loss: 0.4901 - accuracy: 0.7661 - val_loss: 0.6036 - val_accuracy: 0.7025\n",
            "Epoch 63/100\n",
            "113/113 [==============================] - 2s 15ms/step - loss: 0.4874 - accuracy: 0.7678 - val_loss: 0.5957 - val_accuracy: 0.7000\n",
            "Epoch 64/100\n",
            "113/113 [==============================] - 2s 14ms/step - loss: 0.4851 - accuracy: 0.7678 - val_loss: 0.5972 - val_accuracy: 0.6975\n",
            "Epoch 65/100\n",
            "113/113 [==============================] - 1s 12ms/step - loss: 0.4841 - accuracy: 0.7717 - val_loss: 0.5904 - val_accuracy: 0.7075\n",
            "Epoch 66/100\n",
            "113/113 [==============================] - 1s 13ms/step - loss: 0.4851 - accuracy: 0.7681 - val_loss: 0.6034 - val_accuracy: 0.7025\n"
          ]
        },
        {
          "data": {
            "image/png": "[encoded data removed]",
            "text/plain": [
              "<Figure size 640x480 with 1 Axes>"
            ]
          },
          "metadata": {},
          "output_type": "display_data"
        },
        {
          "data": {
            "image/png": "[encoded data removed]",
            "text/plain": [
              "<Figure size 640x480 with 1 Axes>"
            ]
          },
          "metadata": {},
          "output_type": "display_data"
        },
        {
          "name": "stdout",
          "output_type": "stream",
          "text": [
            "113/113 [==============================] - 1s 8ms/step - loss: 0.5109 - accuracy: 0.7531\n",
            "Train set evaluation: [0.5108513832092285, 0.7530555725097656]\n",
            "13/13 [==============================] - 0s 8ms/step - loss: 0.5818 - accuracy: 0.6975\n",
            "Test set evaluation: [0.5817818641662598, 0.6974999904632568]\n"
          ]
        }
      ],
      "source": [
        "model = Sequential()\n",
        "\n",
        "# hidden layers\n",
        "\n",
        "model.add(Dense(units=20, activation='relu', input_dim=6))\n",
        "model.add(Dense(units=20,activation='relu'))\n",
        "model.add(Dense(units=20,activation='relu'))\n",
        "#model.add(Dense(units=14,activation='relu'))\n",
        "\n",
        "\n",
        "\n",
        "# final layer\n",
        "model.add(Dense(units=2,activation='softmax'))\n",
        "\n",
        "# Define custom optmizer?\n",
        "#from keras.optimizers import SGD\n",
        "#opt = SGD(learning_rate=0.1, momentum=0.9)\n",
        "\n",
        "# Compile model\n",
        "model.compile(loss=\"categorical_crossentropy\", optimizer='adam',metrics=['accuracy'])\n",
        "\n",
        "# Train NN\n",
        "early_stopping = EarlyStopping(monitor='val_loss', mode='min', patience=20, restore_best_weights=True)\n",
        "history = model.fit(X_train, y_train, epochs=100, batch_size = 32,validation_data=(X_test,y_test), verbose=1,callbacks=[early_stopping])\n",
        "# Plot model evolution\n",
        "model_evolution_accuracy(history)\n",
        "model_evolution_loss(history)\n",
        "\n",
        "# print metrics\n",
        "test_set_evalution(model, X_train, X_test, y_train, y_test)"
      ]
    },
    {
      "cell_type": "markdown",
      "metadata": {},
      "source": [
        "Compare to old model"
      ]
    },
    {
      "cell_type": "code",
      "execution_count": 7,
      "metadata": {},
      "outputs": [
        {
          "name": "stdout",
          "output_type": "stream",
          "text": [
            "113/113 [==============================] - 1s 9ms/step - loss: 0.3212 - accuracy: 0.8725\n",
            "Train set evaluation: [0.3211888074874878, 0.8725000023841858]\n",
            "13/13 [==============================] - 0s 8ms/step - loss: 0.3157 - accuracy: 0.8675\n",
            "Test set evaluation: [0.3157211244106293, 0.8675000071525574]\n"
          ]
        }
      ],
      "source": [
        "model_old = keras.models.load_model('fce19-2.h5')\n",
        "\n",
        "test_set_evalution(model_old, X_train, X_test, y_train, y_test)"
      ]
    },
    {
      "cell_type": "code",
      "execution_count": 8,
      "metadata": {},
      "outputs": [
        {
          "data": {
            "text/plain": [
              "0.3157211244106293"
            ]
          },
          "execution_count": 8,
          "metadata": {},
          "output_type": "execute_result"
        }
      ],
      "source": [
        "current_loss = model_old.evaluate(X_test,y_test,verbose=0)[0]\n",
        "current_loss"
      ]
    },
    {
      "cell_type": "code",
      "execution_count": 9,
      "metadata": {},
      "outputs": [
        {
          "name": "stdout",
          "output_type": "stream",
          "text": [
            "Model: \"sequential_5\"\n",
            "_________________________________________________________________\n",
            " Layer (type)                Output Shape              Param #   \n",
            "=================================================================\n",
            " dense_22 (Dense)            (None, 8)                 56        \n",
            "                                                                 \n",
            " dense_23 (Dense)            (None, 8)                 72        \n",
            "                                                                 \n",
            " dense_24 (Dense)            (None, 10)                90        \n",
            "                                                                 \n",
            " dense_25 (Dense)            (None, 10)                110       \n",
            "                                                                 \n",
            " dense_26 (Dense)            (None, 2)                 22        \n",
            "                                                                 \n",
            "=================================================================\n",
            "Total params: 350\n",
            "Trainable params: 350\n",
            "Non-trainable params: 0\n",
            "_________________________________________________________________\n"
          ]
        }
      ],
      "source": [
        "model_old.summary()"
      ]
    },
    {
      "cell_type": "markdown",
      "metadata": {},
      "source": [
        "Save model"
      ]
    },
    {
      "cell_type": "code",
      "execution_count": 10,
      "metadata": {},
      "outputs": [],
      "source": [
        "#model.save('fce19-2.h5')"
      ]
    },
    {
      "cell_type": "markdown",
      "metadata": {},
      "source": [
        "## Iteration to find best Params for a 2 Layer Model"
      ]
    },
    {
      "cell_type": "code",
      "execution_count": null,
      "metadata": {},
      "outputs": [],
      "source": [
        "layer1_nodes = [8,10,12]\n",
        "layer2_nodes = [8,10,12]\n",
        "layer3_nodes = [8,10,12]\n",
        "layer4_nodes = [8,10,12]\n",
        "es = 20"
      ]
    },
    {
      "cell_type": "code",
      "execution_count": null,
      "metadata": {},
      "outputs": [],
      "source": [
        "layer1_nodes = [6,8,10,12,14,16,18,20]\n",
        "layer2_nodes = [6,8,10,12,14,16,18,20]\n",
        "layer3_nodes = [6,8,10,12,14,16,18,20]\n",
        "min_loss = 0.5\n",
        "current_loss = 1\n",
        "# iterate through alyer 1 nodes first\n",
        "for l1 in layer1_nodes:\n",
        "    for l2 in layer2_nodes:\n",
        "        for l3 in layer3_nodes:\n",
        "                #print('L1:{}, L2:{}, L3:{},L4:{}, Es:{}, \\n'.format(l1, l2,l3,l4, es))\n",
        "\n",
        "                model = Sequential()\n",
        "                model.add(Dense(units=l1, activation='relu', input_dim=6))\n",
        "                model.add(Dense(units=l2,activation='relu'))\n",
        "                model.add(Dense(units=l3,activation='relu'))\n",
        "                model.add(Dense(units=2,activation='softmax'))\n",
        "                model.compile(loss=\"categorical_crossentropy\", optimizer='adam',metrics=['accuracy'])\n",
        "                early_stopping = EarlyStopping(monitor='val_loss', mode='min', patience=es, restore_best_weights=True)\n",
        "                history = model.fit(X_train, y_train, epochs=1000, batch_size = 62,validation_data=(X_test,y_test), verbose=0,callbacks=[early_stopping])\n",
        "                \n",
        "                current_loss = model.evaluate(X_test,y_test,verbose=0)[0]\n",
        "                \n",
        "                if current_loss < min_loss:  \n",
        "                    print('L1:{}, L2:{}, L3:{}, Es:{}, \\n'.format(l1, l2,l3, es))\n",
        "                    min_loss = current_loss   \n",
        "                    # Plot model evolution\n",
        "                    model_evolution_accuracy(history)\n",
        "                    model_evolution_loss(history)\n",
        "                    # print metrics\n",
        "                    test_set_evalution(model, X_train, X_test, y_train, y_test)\n",
        "\n",
        "                print('Test ended \\n ----------------- \\n')"
      ]
    },
    {
      "cell_type": "code",
      "execution_count": null,
      "metadata": {},
      "outputs": [],
      "source": []
    }
  ],
  "metadata": {
    "accelerator": "GPU",
    "colab": {
      "collapsed_sections": [],
      "provenance": []
    },
    "gpuClass": "standard",
    "kernelspec": {
      "display_name": "Python 3.10.0 ('tf_2.10')",
      "language": "python",
      "name": "python3"
    },
    "language_info": {
      "codemirror_mode": {
        "name": "ipython",
        "version": 3
      },
      "file_extension": ".py",
      "mimetype": "text/x-python",
      "name": "python",
      "nbconvert_exporter": "python",
      "pygments_lexer": "ipython3",
      "version": "3.10.8"
    },
    "vscode": {
      "interpreter": {
        "hash": "0572de3ec0de3db14d810fe000b3b4fa7d1570197df366e4e138b540c1876b21"
      }
    }
  },
  "nbformat": 4,
  "nbformat_minor": 0
}
