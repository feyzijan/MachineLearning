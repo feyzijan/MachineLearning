{
  "cells": [
    {
      "cell_type": "markdown",
      "metadata": {},
      "source": [
        "Imports"
      ]
    },
    {
      "cell_type": "code",
      "execution_count": 1,
      "metadata": {
        "id": "OcHvUUQdHfRN"
      },
      "outputs": [],
      "source": [
        "import numpy as np\n",
        "import matplotlib.pyplot as plt\n",
        "import matplotlib\n",
        "import pandas as pd\n",
        "import tensorflow as tf\n",
        "from sklearn.preprocessing import StandardScaler\n",
        "from tensorflow.keras.models import Sequential\n",
        "from tensorflow.keras.layers import Dense\n",
        "from tensorflow.keras.utils import *\n",
        "from sklearn.model_selection import train_test_split \n",
        "from sklearn.utils import shuffle\n",
        "from tensorflow.keras.callbacks import EarlyStopping"
      ]
    },
    {
      "cell_type": "markdown",
      "metadata": {
        "id": "DkvGO0giJ1Fv"
      },
      "source": [
        "#### Load Data"
      ]
    },
    {
      "cell_type": "code",
      "execution_count": 2,
      "metadata": {
        "id": "gKBmMEFDHoIm"
      },
      "outputs": [
        {
          "data": {
            "text/html": [
              "<div>\n",
              "<style scoped>\n",
              "    .dataframe tbody tr th:only-of-type {\n",
              "        vertical-align: middle;\n",
              "    }\n",
              "\n",
              "    .dataframe tbody tr th {\n",
              "        vertical-align: top;\n",
              "    }\n",
              "\n",
              "    .dataframe thead th {\n",
              "        text-align: right;\n",
              "    }\n",
              "</style>\n",
              "<table border=\"1\" class=\"dataframe\">\n",
              "  <thead>\n",
              "    <tr style=\"text-align: right;\">\n",
              "      <th></th>\n",
              "      <th>Arm length (m)</th>\n",
              "      <th>Ball weight (kg)</th>\n",
              "      <th>Ball radius (mm)</th>\n",
              "      <th>Air temperature (deg C)</th>\n",
              "      <th>Spring constant (N per m)</th>\n",
              "      <th>Device weight (kg)</th>\n",
              "      <th>Target hit</th>\n",
              "    </tr>\n",
              "  </thead>\n",
              "  <tbody>\n",
              "    <tr>\n",
              "      <th>count</th>\n",
              "      <td>2000.000000</td>\n",
              "      <td>2000.000000</td>\n",
              "      <td>2000.000000</td>\n",
              "      <td>2000.00000</td>\n",
              "      <td>2000.000000</td>\n",
              "      <td>2000.000000</td>\n",
              "      <td>2000.0000</td>\n",
              "    </tr>\n",
              "    <tr>\n",
              "      <th>mean</th>\n",
              "      <td>0.299791</td>\n",
              "      <td>0.310500</td>\n",
              "      <td>0.161670</td>\n",
              "      <td>18.81350</td>\n",
              "      <td>284.024574</td>\n",
              "      <td>4.277268</td>\n",
              "      <td>0.4950</td>\n",
              "    </tr>\n",
              "    <tr>\n",
              "      <th>std</th>\n",
              "      <td>0.098392</td>\n",
              "      <td>0.099760</td>\n",
              "      <td>0.088398</td>\n",
              "      <td>4.82435</td>\n",
              "      <td>137.933777</td>\n",
              "      <td>2.212371</td>\n",
              "      <td>0.5001</td>\n",
              "    </tr>\n",
              "    <tr>\n",
              "      <th>min</th>\n",
              "      <td>0.052714</td>\n",
              "      <td>0.010744</td>\n",
              "      <td>0.010085</td>\n",
              "      <td>7.00000</td>\n",
              "      <td>50.136625</td>\n",
              "      <td>0.502755</td>\n",
              "      <td>0.0000</td>\n",
              "    </tr>\n",
              "    <tr>\n",
              "      <th>25%</th>\n",
              "      <td>0.232482</td>\n",
              "      <td>0.242879</td>\n",
              "      <td>0.094662</td>\n",
              "      <td>15.00000</td>\n",
              "      <td>180.410162</td>\n",
              "      <td>2.369400</td>\n",
              "      <td>0.0000</td>\n",
              "    </tr>\n",
              "    <tr>\n",
              "      <th>50%</th>\n",
              "      <td>0.297622</td>\n",
              "      <td>0.308757</td>\n",
              "      <td>0.156026</td>\n",
              "      <td>19.00000</td>\n",
              "      <td>273.854098</td>\n",
              "      <td>4.258953</td>\n",
              "      <td>0.0000</td>\n",
              "    </tr>\n",
              "    <tr>\n",
              "      <th>75%</th>\n",
              "      <td>0.362871</td>\n",
              "      <td>0.379310</td>\n",
              "      <td>0.222891</td>\n",
              "      <td>22.00000</td>\n",
              "      <td>376.883297</td>\n",
              "      <td>6.251034</td>\n",
              "      <td>1.0000</td>\n",
              "    </tr>\n",
              "    <tr>\n",
              "      <th>max</th>\n",
              "      <td>0.629269</td>\n",
              "      <td>0.607998</td>\n",
              "      <td>0.469498</td>\n",
              "      <td>30.00000</td>\n",
              "      <td>798.732555</td>\n",
              "      <td>7.998564</td>\n",
              "      <td>1.0000</td>\n",
              "    </tr>\n",
              "  </tbody>\n",
              "</table>\n",
              "</div>"
            ],
            "text/plain": [
              "       Arm length (m)  Ball weight (kg)  Ball radius (mm)  \\\n",
              "count     2000.000000       2000.000000       2000.000000   \n",
              "mean         0.299791          0.310500          0.161670   \n",
              "std          0.098392          0.099760          0.088398   \n",
              "min          0.052714          0.010744          0.010085   \n",
              "25%          0.232482          0.242879          0.094662   \n",
              "50%          0.297622          0.308757          0.156026   \n",
              "75%          0.362871          0.379310          0.222891   \n",
              "max          0.629269          0.607998          0.469498   \n",
              "\n",
              "       Air temperature (deg C)  Spring constant (N per m)  Device weight (kg)  \\\n",
              "count               2000.00000                2000.000000         2000.000000   \n",
              "mean                  18.81350                 284.024574            4.277268   \n",
              "std                    4.82435                 137.933777            2.212371   \n",
              "min                    7.00000                  50.136625            0.502755   \n",
              "25%                   15.00000                 180.410162            2.369400   \n",
              "50%                   19.00000                 273.854098            4.258953   \n",
              "75%                   22.00000                 376.883297            6.251034   \n",
              "max                   30.00000                 798.732555            7.998564   \n",
              "\n",
              "       Target hit  \n",
              "count   2000.0000  \n",
              "mean       0.4950  \n",
              "std        0.5001  \n",
              "min        0.0000  \n",
              "25%        0.0000  \n",
              "50%        0.0000  \n",
              "75%        1.0000  \n",
              "max        1.0000  "
            ]
          },
          "execution_count": 2,
          "metadata": {},
          "output_type": "execute_result"
        }
      ],
      "source": [
        "df = pd.read_csv(\"dataset1.csv\")\n",
        "# Optional modifications to test\n",
        "#df['Air temperature (deg C)'] = df['Air temperature (deg C)'] + 273.15\n",
        "#df['Ball radius (mm)'] = 0\n",
        "\n",
        "X = np.array(df.drop(labels='Target hit',axis=1))\n",
        "y = np.array(df['Target hit'])\n",
        "\n",
        "df.describe()"
      ]
    },
    {
      "cell_type": "markdown",
      "metadata": {},
      "source": [
        "Standard Scale data"
      ]
    },
    {
      "cell_type": "code",
      "execution_count": 3,
      "metadata": {},
      "outputs": [
        {
          "name": "stdout",
          "output_type": "stream",
          "text": [
            "StandardScaler()\n"
          ]
        }
      ],
      "source": [
        "scaler = StandardScaler()\n",
        "print(scaler.fit(X))\n",
        "\n",
        "\n",
        "# save params\n",
        "data1_mean = np.array(scaler.mean_)\n",
        "data1_std = np.sqrt(np.array(scaler.var_))\n",
        "scaling_data1 = np.array([data1_mean, data1_std])\n",
        "np.savetxt('fce19-1.txt',scaling_data1)\n",
        "\n",
        "# scale\n",
        "X = scaler.fit_transform(X)"
      ]
    },
    {
      "cell_type": "markdown",
      "metadata": {
        "id": "jTUHYW67LEGG"
      },
      "source": [
        "Split into train-test and reshape y"
      ]
    },
    {
      "cell_type": "code",
      "execution_count": 4,
      "metadata": {},
      "outputs": [],
      "source": [
        "y = to_categorical(y)\n",
        "X_train, X_test, y_train, y_test = train_test_split(X,y,test_size=0.1)"
      ]
    },
    {
      "cell_type": "markdown",
      "metadata": {},
      "source": [
        "Plotting functions"
      ]
    },
    {
      "cell_type": "code",
      "execution_count": 5,
      "metadata": {},
      "outputs": [],
      "source": [
        "def model_evolution_accuracy(history):\n",
        "    plt.ylim(0,1)\n",
        "    plt.plot(history.history['accuracy'])\n",
        "    plt.plot(history.history['val_accuracy'])\n",
        "    plt.title('model accuracy')\n",
        "    plt.ylabel('accuracy')\n",
        "    plt.xlabel('epoch')\n",
        "    plt.legend(['train', 'test'], loc='upper left')\n",
        "    plt.show()\n",
        "\n",
        "def model_evolution_loss(history):  \n",
        "    # summarize history for loss\n",
        "    plt.ylim(0,1)\n",
        "    plt.plot(history.history['loss'])\n",
        "    plt.plot(history.history['val_loss'])\n",
        "    plt.title('model loss')\n",
        "    plt.ylabel('loss')\n",
        "    plt.xlabel('epoch')\n",
        "    plt.legend(['train', 'test'], loc='upper left')\n",
        "    plt.show()\n",
        "\n",
        "# Evaluate accuracy on training set\n",
        "def test_set_evalution(model, X_train, X_test, y_train, y_test):\n",
        "    y_train_pred = model.predict(X_train)\n",
        "    y_test_pred = model.predict(X_test)\n",
        "    print(\"Train set evaluation:\", model.evaluate(X_train,y_train))\n",
        "    print(\"Test set evaluation:\", model.evaluate(X_test,y_test))"
      ]
    },
    {
      "cell_type": "markdown",
      "metadata": {
        "id": "3XL2nG6XLtwP"
      },
      "source": [
        " Design NN"
      ]
    },
    {
      "cell_type": "code",
      "execution_count": 102,
      "metadata": {
        "id": "7In-3KJsLyTG"
      },
      "outputs": [
        {
          "name": "stdout",
          "output_type": "stream",
          "text": [
            "Epoch 1/1000\n",
            "60/60 [==============================] - 1s 6ms/step - loss: 0.7462 - accuracy: 0.4021 - val_loss: 0.7158 - val_accuracy: 0.4200\n",
            "Epoch 2/1000\n",
            "60/60 [==============================] - 0s 3ms/step - loss: 0.6781 - accuracy: 0.5358 - val_loss: 0.6614 - val_accuracy: 0.5600\n",
            "Epoch 3/1000\n",
            "60/60 [==============================] - 0s 3ms/step - loss: 0.6221 - accuracy: 0.6711 - val_loss: 0.6024 - val_accuracy: 0.7200\n",
            "Epoch 4/1000\n",
            "60/60 [==============================] - 0s 4ms/step - loss: 0.5556 - accuracy: 0.7658 - val_loss: 0.5344 - val_accuracy: 0.7800\n",
            "Epoch 5/1000\n",
            "60/60 [==============================] - 0s 3ms/step - loss: 0.4788 - accuracy: 0.8200 - val_loss: 0.4593 - val_accuracy: 0.8600\n",
            "Epoch 6/1000\n",
            "60/60 [==============================] - 0s 3ms/step - loss: 0.3986 - accuracy: 0.8568 - val_loss: 0.3907 - val_accuracy: 0.8500\n",
            "Epoch 7/1000\n",
            "60/60 [==============================] - 0s 4ms/step - loss: 0.3274 - accuracy: 0.8832 - val_loss: 0.3414 - val_accuracy: 0.8500\n",
            "Epoch 8/1000\n",
            "60/60 [==============================] - 0s 4ms/step - loss: 0.2767 - accuracy: 0.8942 - val_loss: 0.3087 - val_accuracy: 0.8700\n",
            "Epoch 9/1000\n",
            "60/60 [==============================] - 0s 5ms/step - loss: 0.2458 - accuracy: 0.9047 - val_loss: 0.2907 - val_accuracy: 0.8700\n",
            "Epoch 10/1000\n",
            "60/60 [==============================] - 0s 4ms/step - loss: 0.2292 - accuracy: 0.9058 - val_loss: 0.2758 - val_accuracy: 0.8600\n",
            "Epoch 11/1000\n",
            "60/60 [==============================] - 0s 4ms/step - loss: 0.2186 - accuracy: 0.9089 - val_loss: 0.2785 - val_accuracy: 0.8600\n",
            "Epoch 12/1000\n",
            "60/60 [==============================] - 0s 4ms/step - loss: 0.2122 - accuracy: 0.9116 - val_loss: 0.2766 - val_accuracy: 0.8800\n",
            "Epoch 13/1000\n",
            "60/60 [==============================] - 0s 4ms/step - loss: 0.2077 - accuracy: 0.9158 - val_loss: 0.2732 - val_accuracy: 0.8900\n",
            "Epoch 14/1000\n",
            "60/60 [==============================] - 0s 4ms/step - loss: 0.2042 - accuracy: 0.9158 - val_loss: 0.2692 - val_accuracy: 0.8900\n",
            "Epoch 15/1000\n",
            "60/60 [==============================] - 0s 4ms/step - loss: 0.2017 - accuracy: 0.9168 - val_loss: 0.2724 - val_accuracy: 0.8800\n",
            "Epoch 16/1000\n",
            "60/60 [==============================] - 0s 4ms/step - loss: 0.1988 - accuracy: 0.9184 - val_loss: 0.2742 - val_accuracy: 0.8800\n",
            "Epoch 17/1000\n",
            "60/60 [==============================] - 0s 3ms/step - loss: 0.1960 - accuracy: 0.9179 - val_loss: 0.2710 - val_accuracy: 0.8800\n",
            "Epoch 18/1000\n",
            "60/60 [==============================] - 0s 4ms/step - loss: 0.1934 - accuracy: 0.9211 - val_loss: 0.2716 - val_accuracy: 0.8700\n",
            "Epoch 19/1000\n",
            "60/60 [==============================] - 0s 4ms/step - loss: 0.1910 - accuracy: 0.9221 - val_loss: 0.2767 - val_accuracy: 0.8700\n",
            "Epoch 20/1000\n",
            "60/60 [==============================] - 0s 4ms/step - loss: 0.1886 - accuracy: 0.9221 - val_loss: 0.2744 - val_accuracy: 0.8800\n",
            "Epoch 21/1000\n",
            "60/60 [==============================] - 0s 4ms/step - loss: 0.1870 - accuracy: 0.9253 - val_loss: 0.2769 - val_accuracy: 0.8800\n",
            "Epoch 22/1000\n",
            "60/60 [==============================] - 0s 4ms/step - loss: 0.1848 - accuracy: 0.9226 - val_loss: 0.2778 - val_accuracy: 0.8900\n",
            "Epoch 23/1000\n",
            "60/60 [==============================] - 0s 4ms/step - loss: 0.1829 - accuracy: 0.9253 - val_loss: 0.2751 - val_accuracy: 0.8900\n",
            "Epoch 24/1000\n",
            "60/60 [==============================] - 0s 3ms/step - loss: 0.1811 - accuracy: 0.9247 - val_loss: 0.2740 - val_accuracy: 0.8900\n",
            "Epoch 25/1000\n",
            "60/60 [==============================] - 0s 3ms/step - loss: 0.1788 - accuracy: 0.9263 - val_loss: 0.2682 - val_accuracy: 0.8900\n",
            "Epoch 26/1000\n",
            "60/60 [==============================] - 0s 3ms/step - loss: 0.1782 - accuracy: 0.9253 - val_loss: 0.2712 - val_accuracy: 0.8900\n",
            "Epoch 27/1000\n",
            "60/60 [==============================] - 0s 3ms/step - loss: 0.1757 - accuracy: 0.9268 - val_loss: 0.2738 - val_accuracy: 0.8800\n",
            "Epoch 28/1000\n",
            "60/60 [==============================] - 0s 4ms/step - loss: 0.1745 - accuracy: 0.9268 - val_loss: 0.2802 - val_accuracy: 0.8700\n",
            "Epoch 29/1000\n",
            "60/60 [==============================] - 0s 3ms/step - loss: 0.1733 - accuracy: 0.9279 - val_loss: 0.2759 - val_accuracy: 0.8700\n",
            "Epoch 30/1000\n",
            "60/60 [==============================] - 0s 3ms/step - loss: 0.1723 - accuracy: 0.9284 - val_loss: 0.2845 - val_accuracy: 0.8800\n",
            "Epoch 31/1000\n",
            "60/60 [==============================] - 0s 3ms/step - loss: 0.1712 - accuracy: 0.9289 - val_loss: 0.2750 - val_accuracy: 0.8700\n",
            "Epoch 32/1000\n",
            "60/60 [==============================] - 0s 3ms/step - loss: 0.1705 - accuracy: 0.9305 - val_loss: 0.2774 - val_accuracy: 0.8700\n",
            "Epoch 33/1000\n",
            "60/60 [==============================] - 0s 4ms/step - loss: 0.1700 - accuracy: 0.9353 - val_loss: 0.2813 - val_accuracy: 0.8700\n",
            "Epoch 34/1000\n",
            "60/60 [==============================] - 0s 3ms/step - loss: 0.1689 - accuracy: 0.9326 - val_loss: 0.2802 - val_accuracy: 0.8700\n",
            "Epoch 35/1000\n",
            "60/60 [==============================] - 0s 3ms/step - loss: 0.1692 - accuracy: 0.9295 - val_loss: 0.2798 - val_accuracy: 0.8700\n",
            "Epoch 36/1000\n",
            "60/60 [==============================] - 0s 3ms/step - loss: 0.1676 - accuracy: 0.9311 - val_loss: 0.2897 - val_accuracy: 0.8700\n",
            "Epoch 37/1000\n",
            "60/60 [==============================] - 0s 3ms/step - loss: 0.1676 - accuracy: 0.9295 - val_loss: 0.2775 - val_accuracy: 0.8700\n",
            "Epoch 38/1000\n",
            "60/60 [==============================] - 0s 3ms/step - loss: 0.1664 - accuracy: 0.9316 - val_loss: 0.2866 - val_accuracy: 0.8700\n",
            "Epoch 39/1000\n",
            "60/60 [==============================] - 0s 3ms/step - loss: 0.1662 - accuracy: 0.9347 - val_loss: 0.2830 - val_accuracy: 0.8800\n",
            "Epoch 40/1000\n",
            "60/60 [==============================] - 0s 3ms/step - loss: 0.1655 - accuracy: 0.9321 - val_loss: 0.2825 - val_accuracy: 0.8800\n",
            "Epoch 41/1000\n",
            "60/60 [==============================] - 0s 3ms/step - loss: 0.1660 - accuracy: 0.9347 - val_loss: 0.2820 - val_accuracy: 0.8700\n",
            "Epoch 42/1000\n",
            "60/60 [==============================] - 0s 3ms/step - loss: 0.1652 - accuracy: 0.9316 - val_loss: 0.2766 - val_accuracy: 0.8800\n",
            "Epoch 43/1000\n",
            "60/60 [==============================] - 0s 3ms/step - loss: 0.1647 - accuracy: 0.9332 - val_loss: 0.2836 - val_accuracy: 0.8800\n",
            "Epoch 44/1000\n",
            "60/60 [==============================] - 0s 3ms/step - loss: 0.1643 - accuracy: 0.9311 - val_loss: 0.2944 - val_accuracy: 0.8800\n",
            "Epoch 45/1000\n",
            "60/60 [==============================] - 0s 3ms/step - loss: 0.1636 - accuracy: 0.9342 - val_loss: 0.2825 - val_accuracy: 0.8800\n",
            "Epoch 46/1000\n",
            "60/60 [==============================] - 0s 4ms/step - loss: 0.1630 - accuracy: 0.9332 - val_loss: 0.2831 - val_accuracy: 0.8700\n",
            "Epoch 47/1000\n",
            "60/60 [==============================] - 0s 3ms/step - loss: 0.1629 - accuracy: 0.9316 - val_loss: 0.2861 - val_accuracy: 0.8800\n",
            "Epoch 48/1000\n",
            "60/60 [==============================] - 0s 4ms/step - loss: 0.1630 - accuracy: 0.9347 - val_loss: 0.2910 - val_accuracy: 0.8800\n",
            "Epoch 49/1000\n",
            "60/60 [==============================] - 0s 3ms/step - loss: 0.1622 - accuracy: 0.9347 - val_loss: 0.2872 - val_accuracy: 0.8800\n",
            "Epoch 50/1000\n",
            "60/60 [==============================] - 0s 3ms/step - loss: 0.1623 - accuracy: 0.9358 - val_loss: 0.2879 - val_accuracy: 0.8800\n",
            "Epoch 51/1000\n",
            "60/60 [==============================] - 0s 3ms/step - loss: 0.1613 - accuracy: 0.9337 - val_loss: 0.2875 - val_accuracy: 0.8800\n",
            "Epoch 52/1000\n",
            "60/60 [==============================] - 0s 3ms/step - loss: 0.1611 - accuracy: 0.9316 - val_loss: 0.2857 - val_accuracy: 0.8800\n",
            "Epoch 53/1000\n",
            "60/60 [==============================] - 0s 3ms/step - loss: 0.1604 - accuracy: 0.9337 - val_loss: 0.2864 - val_accuracy: 0.8800\n",
            "Epoch 54/1000\n",
            "60/60 [==============================] - 0s 3ms/step - loss: 0.1601 - accuracy: 0.9321 - val_loss: 0.2908 - val_accuracy: 0.8800\n",
            "Epoch 55/1000\n",
            "60/60 [==============================] - 0s 4ms/step - loss: 0.1607 - accuracy: 0.9321 - val_loss: 0.2848 - val_accuracy: 0.8800\n",
            "Epoch 56/1000\n",
            "60/60 [==============================] - 0s 4ms/step - loss: 0.1604 - accuracy: 0.9326 - val_loss: 0.2854 - val_accuracy: 0.8800\n",
            "Epoch 57/1000\n",
            "60/60 [==============================] - 0s 4ms/step - loss: 0.1602 - accuracy: 0.9342 - val_loss: 0.2910 - val_accuracy: 0.8800\n",
            "Epoch 58/1000\n",
            "60/60 [==============================] - 0s 4ms/step - loss: 0.1598 - accuracy: 0.9321 - val_loss: 0.2948 - val_accuracy: 0.8700\n",
            "Epoch 59/1000\n",
            "60/60 [==============================] - 0s 3ms/step - loss: 0.1588 - accuracy: 0.9342 - val_loss: 0.2909 - val_accuracy: 0.8800\n",
            "Epoch 60/1000\n",
            "60/60 [==============================] - 0s 3ms/step - loss: 0.1589 - accuracy: 0.9321 - val_loss: 0.2921 - val_accuracy: 0.8800\n",
            "Epoch 61/1000\n",
            "60/60 [==============================] - 0s 3ms/step - loss: 0.1592 - accuracy: 0.9311 - val_loss: 0.2926 - val_accuracy: 0.8800\n",
            "Epoch 62/1000\n",
            "60/60 [==============================] - 0s 4ms/step - loss: 0.1585 - accuracy: 0.9363 - val_loss: 0.3071 - val_accuracy: 0.8600\n",
            "Epoch 63/1000\n",
            "60/60 [==============================] - 0s 4ms/step - loss: 0.1581 - accuracy: 0.9316 - val_loss: 0.2937 - val_accuracy: 0.8800\n",
            "Epoch 64/1000\n",
            "60/60 [==============================] - 0s 3ms/step - loss: 0.1584 - accuracy: 0.9337 - val_loss: 0.2947 - val_accuracy: 0.8800\n",
            "Epoch 65/1000\n",
            "60/60 [==============================] - 0s 4ms/step - loss: 0.1587 - accuracy: 0.9332 - val_loss: 0.2916 - val_accuracy: 0.8800\n",
            "Epoch 66/1000\n",
            "60/60 [==============================] - 0s 4ms/step - loss: 0.1586 - accuracy: 0.9353 - val_loss: 0.2919 - val_accuracy: 0.8800\n",
            "Epoch 67/1000\n",
            "60/60 [==============================] - 0s 4ms/step - loss: 0.1575 - accuracy: 0.9353 - val_loss: 0.3087 - val_accuracy: 0.8600\n",
            "Epoch 68/1000\n",
            "60/60 [==============================] - 0s 3ms/step - loss: 0.1583 - accuracy: 0.9332 - val_loss: 0.3007 - val_accuracy: 0.8700\n",
            "Epoch 69/1000\n",
            "60/60 [==============================] - 0s 3ms/step - loss: 0.1574 - accuracy: 0.9353 - val_loss: 0.2916 - val_accuracy: 0.8800\n",
            "Epoch 70/1000\n",
            "60/60 [==============================] - 0s 3ms/step - loss: 0.1569 - accuracy: 0.9342 - val_loss: 0.2955 - val_accuracy: 0.8800\n",
            "Epoch 71/1000\n",
            "60/60 [==============================] - 0s 3ms/step - loss: 0.1565 - accuracy: 0.9347 - val_loss: 0.2958 - val_accuracy: 0.8800\n",
            "Epoch 72/1000\n",
            "60/60 [==============================] - 0s 3ms/step - loss: 0.1566 - accuracy: 0.9332 - val_loss: 0.2944 - val_accuracy: 0.8800\n",
            "Epoch 73/1000\n",
            "60/60 [==============================] - 0s 3ms/step - loss: 0.1565 - accuracy: 0.9316 - val_loss: 0.3038 - val_accuracy: 0.8800\n",
            "Epoch 74/1000\n",
            "60/60 [==============================] - 0s 3ms/step - loss: 0.1564 - accuracy: 0.9337 - val_loss: 0.3046 - val_accuracy: 0.8700\n",
            "Epoch 75/1000\n",
            "60/60 [==============================] - 0s 3ms/step - loss: 0.1571 - accuracy: 0.9337 - val_loss: 0.2987 - val_accuracy: 0.8800\n"
          ]
        },
        {
          "data": {
            "image/png": "[encoded data removed]",
            "text/plain": [
              "<Figure size 640x480 with 1 Axes>"
            ]
          },
          "metadata": {},
          "output_type": "display_data"
        },
        {
          "data": {
            "image/png": "[encoded data removed]",
            "text/plain": [
              "<Figure size 640x480 with 1 Axes>"
            ]
          },
          "metadata": {},
          "output_type": "display_data"
        },
        {
          "name": "stdout",
          "output_type": "stream",
          "text": [
            "60/60 [==============================] - 0s 1ms/step\n",
            "4/4 [==============================] - 0s 2ms/step\n",
            "60/60 [==============================] - 0s 2ms/step - loss: 0.1768 - accuracy: 0.9258\n",
            "Train set evaluation: [0.17684541642665863, 0.925789475440979]\n",
            "4/4 [==============================] - 0s 2ms/step - loss: 0.2682 - accuracy: 0.8900\n",
            "Test set evaluation: [0.2682150602340698, 0.8899999856948853]\n"
          ]
        }
      ],
      "source": [
        "model = Sequential()\n",
        "\n",
        "# hidden layers\n",
        "\n",
        "model.add(Dense(units=8, activation='relu', input_dim=6))\n",
        "model.add(Dense(units=8,activation='relu'))\n",
        "#model.add(Dense(units=10,activation='relu'))\n",
        "#model.add(Dense(units=10,activation='relu'))\n",
        "#model.add(Dense(units=8,activation='relu'))\n",
        "\n",
        "\n",
        "# final layer\n",
        "model.add(Dense(units=2,activation='softmax'))\n",
        "\n",
        "# Define custom optmizer?\n",
        "#from keras.optimizers import SGD\n",
        "#opt = SGD(learning_rate=0.1, momentum=0.9)\n",
        "\n",
        "# Compile model\n",
        "model.compile(loss=\"categorical_crossentropy\", optimizer='adam',metrics=['accuracy'])\n",
        "\n",
        "# Train NN\n",
        "early_stopping = EarlyStopping(monitor='val_loss', mode='min', patience=50, restore_best_weights=True)\n",
        "history = model.fit(X_train, y_train, epochs=1000, batch_size = 32,validation_data=(X_test,y_test), verbose=1,callbacks=[early_stopping])\n",
        "# Plot model evolution\n",
        "model_evolution_accuracy(history)\n",
        "model_evolution_loss(history)\n",
        "\n",
        "# print metrics\n",
        "test_set_evalution(model, X_train, X_test, y_train, y_test)"
      ]
    },
    {
      "cell_type": "code",
      "execution_count": 103,
      "metadata": {},
      "outputs": [
        {
          "name": "stdout",
          "output_type": "stream",
          "text": [
            "63/63 [==============================] - 0s 2ms/step - loss: 0.1814 - accuracy: 0.9240\n"
          ]
        },
        {
          "data": {
            "text/plain": [
              "[0.18141354620456696, 0.9240000247955322]"
            ]
          },
          "execution_count": 103,
          "metadata": {},
          "output_type": "execute_result"
        }
      ],
      "source": [
        "model.evaluate(X,y)"
      ]
    },
    {
      "cell_type": "markdown",
      "metadata": {},
      "source": [
        "## Iteration to find best Params for a 2 Layer Model"
      ]
    },
    {
      "cell_type": "code",
      "execution_count": null,
      "metadata": {},
      "outputs": [],
      "source": [
        "layer1_nodes = [6,8,10,12,14]\n",
        "layer2_nodes = [6,8,10,12,14]\n",
        "#batch_sizes = [32,64]\n",
        "early_stopping = [10,20,30,40]\n",
        "# 100 iterations\n",
        "\n",
        "# iterate through alyer 1 nodes first\n",
        "for l1 in range(layer1_nodes):\n",
        "    for l2 in range(layer2_nodes):\n",
        "        for es in range(early_stopping):\n",
        "            print('L1:{}, L2:{}, Es:{}'.format(layer1_nodes[]))\n",
        "\n"
      ]
    },
    {
      "cell_type": "markdown",
      "metadata": {},
      "source": [
        "Save model"
      ]
    },
    {
      "cell_type": "code",
      "execution_count": 108,
      "metadata": {},
      "outputs": [],
      "source": [
        "model.save('fce19-1.h5')"
      ]
    }
  ],
  "metadata": {
    "accelerator": "GPU",
    "colab": {
      "collapsed_sections": [],
      "provenance": []
    },
    "gpuClass": "standard",
    "kernelspec": {
      "display_name": "Python 3.10.0 ('tf_2.10')",
      "language": "python",
      "name": "python3"
    },
    "language_info": {
      "codemirror_mode": {
        "name": "ipython",
        "version": 3
      },
      "file_extension": ".py",
      "mimetype": "text/x-python",
      "name": "python",
      "nbconvert_exporter": "python",
      "pygments_lexer": "ipython3",
      "version": "3.10.8"
    },
    "vscode": {
      "interpreter": {
        "hash": "0572de3ec0de3db14d810fe000b3b4fa7d1570197df366e4e138b540c1876b21"
      }
    }
  },
  "nbformat": 4,
  "nbformat_minor": 0
}
